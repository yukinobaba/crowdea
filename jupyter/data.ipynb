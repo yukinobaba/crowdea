{
 "cells": [
  {
   "cell_type": "code",
   "execution_count": 1,
   "metadata": {},
   "outputs": [],
   "source": [
    "from pathlib import Path\n",
    "import pandas as pd\n",
    "import numpy as np\n",
    "import collections\n",
    "\n",
    "import warnings\n",
    "warnings.filterwarnings('ignore')"
   ]
  },
  {
   "cell_type": "code",
   "execution_count": 2,
   "metadata": {},
   "outputs": [],
   "source": [
    "data_cats = ['idea', 'design']\n",
    "data_keys = {'idea': ['bike', 'cheat', 'meeting', 'night', 'visitor'], \n",
    "             'design': ['ai_character', 'olympic']}\n",
    "data_keys_arr = data_keys['idea'] + data_keys['design']"
   ]
  },
  {
   "cell_type": "code",
   "execution_count": 3,
   "metadata": {},
   "outputs": [],
   "source": [
    "data_dir = Path('../data/')\n",
    "\n",
    "df = pd.DataFrame(index=data_keys_arr, columns=['num_ideas', 'num_evaluators', 'num_labels'])\n",
    "for data_cat in data_cats:\n",
    "    for data_key in data_keys[data_cat]:\n",
    "        data_df = pd.read_csv(data_dir / data_cat / data_key / 'label.tsv', index_col=0, sep='\\t') \n",
    "        df.loc[data_key, 'num_ideas'] = len(set(list(data_df.winner_index.unique()) + list(data_df.loser_index.unique())))\n",
    "        df.loc[data_key, 'num_evaluators'] = len(data_df.evaluator_index.unique())\n",
    "        df.loc[data_key, 'num_labels'] = data_df.shape[0]"
   ]
  },
  {
   "cell_type": "code",
   "execution_count": 4,
   "metadata": {},
   "outputs": [
    {
     "data": {
      "text/html": [
       "<div>\n",
       "<style scoped>\n",
       "    .dataframe tbody tr th:only-of-type {\n",
       "        vertical-align: middle;\n",
       "    }\n",
       "\n",
       "    .dataframe tbody tr th {\n",
       "        vertical-align: top;\n",
       "    }\n",
       "\n",
       "    .dataframe thead th {\n",
       "        text-align: right;\n",
       "    }\n",
       "</style>\n",
       "<table border=\"1\" class=\"dataframe\">\n",
       "  <thead>\n",
       "    <tr style=\"text-align: right;\">\n",
       "      <th></th>\n",
       "      <th>num_ideas</th>\n",
       "      <th>num_evaluators</th>\n",
       "      <th>num_labels</th>\n",
       "    </tr>\n",
       "  </thead>\n",
       "  <tbody>\n",
       "    <tr>\n",
       "      <th>bike</th>\n",
       "      <td>81</td>\n",
       "      <td>217</td>\n",
       "      <td>64800</td>\n",
       "    </tr>\n",
       "    <tr>\n",
       "      <th>cheat</th>\n",
       "      <td>80</td>\n",
       "      <td>257</td>\n",
       "      <td>63200</td>\n",
       "    </tr>\n",
       "    <tr>\n",
       "      <th>meeting</th>\n",
       "      <td>80</td>\n",
       "      <td>177</td>\n",
       "      <td>63200</td>\n",
       "    </tr>\n",
       "    <tr>\n",
       "      <th>night</th>\n",
       "      <td>80</td>\n",
       "      <td>171</td>\n",
       "      <td>63200</td>\n",
       "    </tr>\n",
       "    <tr>\n",
       "      <th>visitor</th>\n",
       "      <td>81</td>\n",
       "      <td>158</td>\n",
       "      <td>64800</td>\n",
       "    </tr>\n",
       "    <tr>\n",
       "      <th>ai_character</th>\n",
       "      <td>66</td>\n",
       "      <td>183</td>\n",
       "      <td>42928</td>\n",
       "    </tr>\n",
       "    <tr>\n",
       "      <th>olympic</th>\n",
       "      <td>38</td>\n",
       "      <td>64</td>\n",
       "      <td>14100</td>\n",
       "    </tr>\n",
       "  </tbody>\n",
       "</table>\n",
       "</div>"
      ],
      "text/plain": [
       "              num_ideas  num_evaluators  num_labels\n",
       "bike                 81             217       64800\n",
       "cheat                80             257       63200\n",
       "meeting              80             177       63200\n",
       "night                80             171       63200\n",
       "visitor              81             158       64800\n",
       "ai_character         66             183       42928\n",
       "olympic              38              64       14100"
      ]
     },
     "execution_count": 4,
     "metadata": {},
     "output_type": "execute_result"
    }
   ],
   "source": [
    "df"
   ]
  },
  {
   "cell_type": "code",
   "execution_count": 6,
   "metadata": {},
   "outputs": [],
   "source": [
    "data_key_tex = {}\n",
    "for data_key in data_keys_arr:\n",
    "    data_key_tex[data_key] = data_key.capitalize()\n",
    "    if data_key == 'ai_character':\n",
    "        data_key_tex[data_key] = 'Character'"
   ]
  },
  {
   "cell_type": "code",
   "execution_count": 7,
   "metadata": {},
   "outputs": [],
   "source": [
    "labels_tex = {'num_ideas': '\\\\#objects', 'num_evaluators': '\\\\#evaluators', 'num_labels': '\\\\#labels'}"
   ]
  },
  {
   "cell_type": "code",
   "execution_count": 10,
   "metadata": {},
   "outputs": [
    {
     "name": "stdout",
     "output_type": "stream",
     "text": [
      "\\begin{tabular}{|l||c|c|c|c|c|c|c|}\n",
      "\\hline\n",
      "\\multirow{2}{*}{Dataset}&\\multicolumn{5}{c|}{Ideas}&\\multicolumn{2}{c|}{Designs}\\\\\n",
      "\\cline{2-6}\n",
      "\\cline{7-8}\n",
      "&Bike&Cheat&Meeting&Night&Visitor&Character&Olympic\\\\\n",
      "\\hline\n",
      "\\hline\n",
      "\\#objects&$81$&$80$&$80$&$80$&$81$&$66$&$38$\\\\\n",
      "\\#evaluators&$217$&$257$&$177$&$171$&$158$&$183$&$64$\\\\\n",
      "\\#labels&$64800$&$63200$&$63200$&$63200$&$64800$&$42928$&$14100$\\\\\n",
      "\\end{tabular}\n"
     ]
    }
   ],
   "source": [
    "lines = []\n",
    "lines.append('\\\\begin{tabular}{|l||%s}' % ('c|' * (len(data_keys_arr)) ))\n",
    "lines.append('\\\\hline')\n",
    "\n",
    "# header 1\n",
    "elems = ['\\\\multirow{2}{*}{Dataset}']\n",
    "elems.append('\\\\multicolumn{5}{c|}{Ideas}')\n",
    "elems.append('\\\\multicolumn{2}{c|}{Designs}')\n",
    "lines.append('&'.join(elems) + '\\\\\\\\')\n",
    "lines.append('\\\\cline{2-6}')\n",
    "lines.append('\\\\cline{7-8}')\n",
    "\n",
    "# header2\n",
    "elems = ['']\n",
    "for data_key in data_keys_arr:\n",
    "    elems.append(data_key_tex[data_key])\n",
    "    \n",
    "lines.append('&'.join(elems) + '\\\\\\\\')\n",
    "lines.append('\\\\hline')\n",
    "lines.append('\\\\hline')\n",
    "\n",
    "# content\n",
    "for c in df.columns:\n",
    "    elems = [labels_tex[c]]\n",
    "    for data_key in data_keys_arr:\n",
    "        elems.append('$%d$' % df.loc[data_key, c])\n",
    "    \n",
    "    lines.append('&'.join(elems) + '\\\\\\\\')\n",
    "\n",
    "lines.append('\\\\end{tabular}')\n",
    "\n",
    "print('\\n'.join(lines))"
   ]
  },
  {
   "cell_type": "code",
   "execution_count": null,
   "metadata": {},
   "outputs": [],
   "source": []
  }
 ],
 "metadata": {
  "kernelspec": {
   "display_name": "Python 3",
   "language": "python",
   "name": "python3"
  },
  "language_info": {
   "codemirror_mode": {
    "name": "ipython",
    "version": 3
   },
   "file_extension": ".py",
   "mimetype": "text/x-python",
   "name": "python",
   "nbconvert_exporter": "python",
   "pygments_lexer": "ipython3",
   "version": "3.7.2"
  }
 },
 "nbformat": 4,
 "nbformat_minor": 2
}
